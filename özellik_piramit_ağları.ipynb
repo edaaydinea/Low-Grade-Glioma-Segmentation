{
 "cells": [
  {
   "attachments": {},
   "cell_type": "markdown",
   "metadata": {},
   "source": [
    "# Özellik Piramidi Ağları Türkçe Anlatım (FPN)\n"
   ]
  },
  {
   "attachments": {},
   "cell_type": "markdown",
   "metadata": {},
   "source": [
    "Özellik piramidi ağları, genellikle görüntü işlemede kullanılan bir yapay sinir ağı tasarımıdır. Bu ağlar, girdi resmin özelliklerini birden fazla katman ve farklı ölçeklerde öğrenmek için tasarlanmıştır. Özellik piramidi ağı genellikle şöyle yapılandırılır:\n"
   ]
  },
  {
   "attachments": {},
   "cell_type": "markdown",
   "metadata": {},
   "source": [
    "## Giriş Katmanı"
   ]
  },
  {
   "attachments": {},
   "cell_type": "markdown",
   "metadata": {},
   "source": [
    "Özellik piramidi ağlarının giriş katmanı, ağın işlem yapacağı girdi resmini alır. Bu katman, resmin özelliklerini algılamak için kullanılan ilk katmandır. Giriş katmanı, resmin özelliklerini ön işlem yaparak daha işleme uygun hale getirir. Ön işlemler arasında resmin boyutlarını azaltma, renk düzenleme, histogram eşitleme gibi işlemler yer alır.\n",
    "\n",
    "Giriş katmanı ayrıca, resmin özelliklerini küçülterek, daha hızlı işleme olanak tanır. Örneğin, giriş katmanı resmi birkaç parçaya bölerek, her parçayı ayrı ayrı işleyebilir. Bu sayede ağ, resmin özelliklerini daha hızlı öğrenebilir.\n",
    "\n",
    "Giriş katmanı, ağın işlem yapacağı girdi resmin özelliklerini ön işlem yaparak daha işleme uygun hale getirir, ve girdi resmin özelliklerini küçülterek daha hızlı işleme olanak tanır. Bu sayede ağ, konsept katmanlarının öğrenmesi için daha iyi bir zemin oluşur.\n",
    "\n",
    "Aşağıdaki örnekte girdi resmin ön işlem yaparak boyutlarını azaltma ve renk düzenleme işlemlerini PyTorch API kullanarak yapacağım. "
   ]
  },
  {
   "cell_type": "code",
   "execution_count": null,
   "metadata": {},
   "outputs": [],
   "source": [
    "import torchvision.transforms as transforms\n",
    "\n",
    "transform = transforms.Compose([\n",
    "    transforms.Resize(256),\n",
    "    transforms.CenterCrop(224),\n",
    "    transforms.ToTensor(),\n",
    "    transforms.Normalize(mean=[0.485, 0.456, 0.406], std=[0.229, 0.224, 0.225])\n",
    "])\n",
    "\n",
    "# Girdi resmini okuma\n",
    "image = Image.open(\"input.jpg\")\n",
    "# Girdi resmini ön işlem yapma\n",
    "processed_image = transform(image)"
   ]
  },
  {
   "attachments": {},
   "cell_type": "markdown",
   "metadata": {},
   "source": [
    "Bu kod örneğinde, transforms.Resize(256) ile girdi resmini 256x256 boyutuna küçültüyorum. Daha sonra transforms.CenterCrop(224) ile resmi ortasından 224x224 boyutunda bir kesit alıyorum. Daha sonra transforms.ToTensor() ile PIL image tipinden Tensor tipine dönüştürüyorum. Son olarak transforms.Normalize ile resmi normalize ediyorum. Bu işlemler ile resmin özellikleri daha işleme uygun hale getirilir. Bu işlemler giriş katmanının yapacağı ön işlemlerdir.\n",
    "\n",
    "Pytorch torchvision.transforms modülü resmi işlemek için kullanabileceğimiz birçok fonksiyon sunmaktadır. Bu örnekte sadece birkaç ön işlem yaptım ama gerçek uygulamalarda daha fazla ön işlem yapılabilir."
   ]
  },
  {
   "attachments": {},
   "cell_type": "markdown",
   "metadata": {},
   "source": [
    "## Konsept katmanları"
   ]
  },
  {
   "attachments": {},
   "cell_type": "markdown",
   "metadata": {},
   "source": [
    "Özellik piramidi ağlarının konsept katmanları, ağın girdi resmin daha yüksek seviyede özelliklerini öğrenmesini sağlar. Bu katmanlar, girdi resmin özelliklerini daha yinelemeli bir şekilde öğrenir ve daha ileri seviyede özellikleri öğrenir. Bu katmanlar arasındaki her bir katman, önceki katmanın özelliklerini kullanarak daha ileri seviyede özellikleri öğrenir.\n",
    "\n",
    "Konsept katmanları, genellikle birden fazla katman olarak yapılandırılır. Her katman, önceki katmanın özelliklerini kullanarak daha ileri seviyede özellikleri öğrenir. Bu sayede, ağ, girdi resmin farklı ölçeklerdeki özelliklerini öğrenir ve daha doğru tahmin yapar.\n",
    "\n",
    "Konsept katmanlarının türevleri arasında Smooth katmanlar ve Lateral katmanlar yer alır.\n"
   ]
  },
  {
   "attachments": {},
   "cell_type": "markdown",
   "metadata": {},
   "source": [
    "#### Smooth Katmanlar"
   ]
  },
  {
   "attachments": {},
   "cell_type": "markdown",
   "metadata": {},
   "source": [
    "\n",
    "Smooth katmanlar, önceki katmanın özelliklerini düzgün bir şekilde devam ettirerek daha yüksek seviyede özellikleri öğrenir. Bu katmanlar, özellikleri daha az parçacık hale getirerek daha az spektrumda özellikleri öğrenir. Bu sayede ağ, resmin daha genel özelliklerini öğrenir.\n"
   ]
  },
  {
   "attachments": {},
   "cell_type": "markdown",
   "metadata": {},
   "source": [
    "Bu amaçla kullanabileceğimiz birçok fonksiyon vardır ama burada `nn.Conv2d` ve `nn.MaxPool2d` kullanacağım. Örnek kod PyTorch API kullanarak yazılmıştır:"
   ]
  },
  {
   "cell_type": "code",
   "execution_count": null,
   "metadata": {},
   "outputs": [],
   "source": [
    "import torch.nn as nn\n",
    "\n",
    "class SmoothLayer(nn.Module):\n",
    "    def __init__(self, in_channels, out_channels):\n",
    "        super(SmoothLayer, self).__init__()\n",
    "        self.conv = nn.Conv2d(in_channels, out_channels, kernel_size=3, padding=1)\n",
    "        self.pool = nn.MaxPool2d(kernel_size=2, stride=2)\n",
    "        \n",
    "    def forward(self, x):\n",
    "        x = self.conv(x)\n",
    "        x = self.pool(x)\n",
    "        return x"
   ]
  },
  {
   "attachments": {},
   "cell_type": "markdown",
   "metadata": {},
   "source": [
    "Bu kod, PyTorch API kullanarak smooth katmanını oluşturan bir sınıf tanımlar. Bu sınıf, girdi resmin özelliklerini, `nn.Conv2d()` katmanı aracılığıyla konvolüsyon yaparak öğrenir ve daha sonra `nn.MaxPool2d()` katmanı aracılığıyla max pooling yaparak özellikleri daha az parçacık hale getirir. Böylece, ağ, resmin daha genel özelliklerini öğrenir."
   ]
  },
  {
   "attachments": {},
   "cell_type": "markdown",
   "metadata": {},
   "source": [
    "### Lateral Katmanlar"
   ]
  },
  {
   "attachments": {},
   "cell_type": "markdown",
   "metadata": {},
   "source": [
    "\n",
    "Lateral katmanlar ise, önceki katmanın özelliklerini daha yinelemeli bir şekilde öğrenir. Bu katmanlar, özellikleri daha parçacık hale getirerek daha fazla spektrumda özellikleri öğrenir. Bu sayede ağ, resmin daha detaylı özelliklerini öğrenir.\n"
   ]
  },
  {
   "attachments": {},
   "cell_type": "markdown",
   "metadata": {},
   "source": [
    "Bu amaçla, lateral katman olarak konvolüsyon katmanının stride'ını arttırarak veya pooling katmanının pooling boyutunu küçülterek yerine getirmesini kullanabilirsiniz. Örnek olarak, PyTorch API kullanarak lateral katmanı oluşturmak için aşağıdaki kodu verebilirim:"
   ]
  },
  {
   "cell_type": "code",
   "execution_count": null,
   "metadata": {},
   "outputs": [],
   "source": [
    "import torch.nn as nn\n",
    "\n",
    "class LateralLayer(nn.Module):\n",
    "    def __init__(self, in_channels, out_channels):\n",
    "        super(LateralLayer, self).__init__()\n",
    "        self.conv = nn.Conv2d(in_channels, out_channels, kernel_size=3, stride=2, padding=1)\n",
    "\n",
    "    def forward(self, x):\n",
    "        x = self.conv(x)\n",
    "        return x"
   ]
  },
  {
   "cell_type": "markdown",
   "metadata": {},
   "source": [
    "\n",
    "Bu katmanlar arasındaki kombinasyon sayesinde ağ hem daha genel özellikleri öğrenir hem de daha detaylı özellikleri öğrenir. Bu sayede ağ daha doğru tahmin yapar. Özellik piramit ağlarının konsept katmanları, genellikle konvolüsyon katmanları veya pooling katmanları olarak yapılandırılır."
   ]
  }
 ],
 "metadata": {
  "kernelspec": {
   "display_name": "Python 3",
   "language": "python",
   "name": "python3"
  },
  "language_info": {
   "name": "python",
   "version": "3.8.0 (tags/v3.8.0:fa919fd, Oct 14 2019, 19:37:50) [MSC v.1916 64 bit (AMD64)]"
  },
  "orig_nbformat": 4,
  "vscode": {
   "interpreter": {
    "hash": "ec635b4402a4cdaa79898ec82662ebc9753b7d3dabd3c54f840e65b5642334f3"
   }
  }
 },
 "nbformat": 4,
 "nbformat_minor": 2
}
