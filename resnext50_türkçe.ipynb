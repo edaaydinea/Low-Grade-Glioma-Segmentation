{
 "cells": [
  {
   "attachments": {},
   "cell_type": "markdown",
   "metadata": {},
   "source": [
    "# ResNeXt-50 Backbone"
   ]
  },
  {
   "attachments": {},
   "cell_type": "markdown",
   "metadata": {},
   "source": [
    "ResNeXt-50, ResNet (Residual Network) mimarisinin bir varyasyonudur. ResNet, \"residual connections\" adı verilen bağlantılar aracılığıyla derin ağların eğitimini kolaylaştırmayı amaçlar.\n",
    "\n",
    "ResNeXt-50, 50 katmanlı bir derin sinir ağıdır. Bu katmanların çoğu \"residual block\" adı verilen birimlerden oluşur. Her bir residual block, birkaç katman arasında bir \"residual connection\" oluşturur. Bu bağlantılar, sinyallerin ağın en derin katmanlarına ulaşmasını kolaylaştırır, böylece ağın eğitimi daha kolay hale gelir.\n",
    "\n",
    "Ayrıca, ResNeXt-50, \"grouped convolution\" adı verilen bir teknik kullanır. Bu teknik, ağın katmanlarını daha küçük gruplara ayırır ve her grup için ayrı ayrı filtreler kullanır. Bu, ağın özellik çeşitliliğini arttırır ve daha iyi özellikler öğrenmesini sağlar.\n",
    "\n",
    "ResNeXt-50, 50 katmanlı bir derin sinir ağıdır ve genellikle aşağıdaki katmanları içerir:\n",
    "\n",
    "- **Convolutional katmanlar**: Bu katmanlar, görüntü verilerini işlemek için kullanılan katmanlardır. Bu katmanlar, girdi görüntüsünü belirli bir boyutta özellik haritalarına dönüştürürler.\n",
    "\n",
    "- **Batch normalization katmanları**: Bu katmanlar, verilerin normalleştirilmesi için kullanılır. Bu katmanlar, ağın eğitiminde istatistikleri kullanarak verileri normalleştirir ve bu sayede ağın eğitimini hızlandırır.\n",
    "\n",
    "- **Residual block katmanları**: Bu katmanlar, \"residual connections\" adı verilen bağlantılar aracılığıyla ağın eğitimini kolaylaştırmak için kullanılır. Bu katmanlar, ağın en derin katmanlarına ulaşan sinyalleri kolaylaştırır. Her bir residual block, birkaç katman arasında bir \"residual connection\" oluşturur.\n",
    "\n",
    "- **Global average pooling katmanı**: Bu katman, ağın özelliklerini ve sonuçlarını genelleştirmek için kullanılır. Bu katman, ağın sonunda kullanılır ve her bir özellik haritası için ortalama değerleri alır.\n",
    "\n",
    "- **Fully connected katmanlar**: Bu katmanlar, ağın sonuçlarını üretmek için kullanılır. Bu katmanlar, ağın sonunda kullanılır ve çıktı olarak sınıf etiketlerini veya diğer tahminleri verir.\n",
    "\n",
    "ResNeXt-50 ağının katmanları, görüntü verilerini işlemek için kullanılır ve özellik haritalarını elde etmek, verileri normalleştirmek, residual connections aracılığıyla ağın eğitimini kolaylaştırmak, özellikleri genelleştirmek ve sonuçları üretmek için kullanılır."
   ]
  },
  {
   "cell_type": "code",
   "execution_count": null,
   "metadata": {},
   "outputs": [],
   "source": [
    "import torch\n",
    "import torch.nn as nn\n",
    "\n",
    "class ResNeXt50(nn.Module):\n",
    "    def __init__(self, num_classes=1000):\n",
    "        super(ResNeXt50, self).__init__()\n",
    "        \n",
    "        self.conv1 = nn.Conv2d(3, 64, kernel_size=3, stride=1, padding=1, bias=False)\n",
    "        self.bn1 = nn.BatchNorm2d(64)\n",
    "        \n",
    "        self.layer1 = nn.Sequential(\n",
    "            nn.Conv2d(64, 64, kernel_size=3, stride=1, padding=1, bias=False),\n",
    "            nn.BatchNorm2d(64),\n",
    "            nn.ReLU(),\n",
    "            nn.Conv2d(64, 64, kernel_size=3, stride=1, padding=1, bias=False),\n",
    "            nn.BatchNorm2d(64),\n",
    "            nn.ReLU()\n",
    "        )\n",
    "        \n",
    "        self.layer2 = nn.Sequential(\n",
    "            nn.Conv2d(64, 128, kernel_size=3, stride=2, padding=1, bias=False),\n",
    "            nn.BatchNorm2d(128),\n",
    "            nn.ReLU(),\n",
    "            nn.Conv2d(128, 128, kernel_size=3, stride=1, padding=1, bias=False),\n",
    "            nn.BatchNorm2d(128),\n",
    "            nn.ReLU()\n",
    "        )\n",
    "        \n",
    "        self.layer3 = nn.Sequential(\n",
    "            nn.Conv2d(128, 256, kernel_size=3, stride=2, padding=1, bias=False),\n",
    "            nn.BatchNorm2d(256),\n",
    "            nn.ReLU(),\n",
    "            nn.Conv2d(256, 256, kernel_size=3, stride=1, padding=1, bias=False),\n",
    "            nn.BatchNorm2d(256),\n",
    "            nn.ReLU()\n",
    "        )\n",
    "        \n",
    "        self.layer4 = nn.Sequential(\n",
    "            nn.Conv2d(256, 512, kernel_size=3, stride=2, padding=1, bias=False),\n",
    "            nn.BatchNorm2d(512),\n",
    "            nn.ReLU(),\n",
    "            nn.Conv2d(512, 512, kernel_size=3, stride=1, padding=1, bias=False),\n",
    "            nn.BatchNorm2d(512),\n",
    "            nn.ReLU()\n",
    "        )\n",
    "        \n",
    "        self.avgpool = nn.AdaptiveAvgPool2d((1, 1))\n",
    "        self.fc = nn.Linear(512, num_classes)\n",
    "    \n",
    "    def forward(self, x):\n",
    "        x = self.conv1(x)\n",
    "        x = self.bn1(x)\n",
    "        x = nn.functional.relu(x)\n",
    "        \n",
    "        x = self.layer1(x)\n",
    "        x = self.layer2(x)\n",
    "        x = self.layer3(x)\n",
    "        x = self.layer4(x)\n",
    "        \n",
    "        x = self.avgpool(x)\n",
    "        x = x.view(x.size(0), -1)\n",
    "        x = self.fc(x)\n",
    "        \n",
    "        return x\n",
    "        "
   ]
  },
  {
   "attachments": {},
   "cell_type": "markdown",
   "metadata": {},
   "source": [
    "`def forward(self, x)`, verilen girdi görüntüsünü ağın katmanları aracılığıyla işler ve sonunda sınıf etiketleri veya diğer tahminleri döndürür. Öncelikle `x` girdi görüntüsünü `self.conv1` katmanı aracılığıyla işler ve sonra `self.bn1` katmanı aracılığıyla normalleştirir. Ardından `nn.functional.relu` aracılığıyla aktivasyon işlemi gerçekleştirir.\n",
    "Sonra `x` girdi görüntüsünü `self.layer1`, `self.layer2`, `self.layer3`, `self.layer4` katmanları aracılığıyla işler.\n",
    "Son olarak `x` girdi görüntüsünü `self.avgpool` katmanı aracılığıyla genelleştirir ve `self.fc` katmanı aracılığıyla sınıf etiketleri veya diğer tahminleri üretir."
   ]
  }
 ],
 "metadata": {
  "kernelspec": {
   "display_name": "python39",
   "language": "python",
   "name": "python3"
  },
  "language_info": {
   "name": "python",
   "version": "3.9.13 (main, Aug 25 2022, 23:51:50) [MSC v.1916 64 bit (AMD64)]"
  },
  "orig_nbformat": 4,
  "vscode": {
   "interpreter": {
    "hash": "2495b32cb5ee53b4d154158c75172eb0cee9954f9785268b3902b95c6ffc55b5"
   }
  }
 },
 "nbformat": 4,
 "nbformat_minor": 2
}
